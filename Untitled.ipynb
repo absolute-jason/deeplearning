{
 "cells": [
  {
   "cell_type": "code",
   "execution_count": 10,
   "metadata": {},
   "outputs": [
    {
     "data": {
      "image/png": "[encoded data removed]",
      "text/plain": [
       "<Figure size 432x288 with 1 Axes>"
      ]
     },
     "metadata": {
      "needs_background": "light"
     },
     "output_type": "display_data"
    }
   ],
   "source": [
    "import numpy as np\n",
    "import matplotlib.pyplot as plt\n",
    "\n",
    "r1 = 0.8       # 80%\n",
    "r2 = r1 + 0.8  # 40%\n",
    "\n",
    "sizes = np.array([120, 120, 120])\n",
    "\n",
    "x = [0] + np.cos(np.linspace(0, 2 * np.pi * r1, 10)).tolist()\n",
    "y = [0] + np.sin(np.linspace(0, 2 * np.pi * r1, 10)).tolist()\n",
    "xy1 = np.column_stack([x, y])\n",
    "s1 = np.abs(xy1).max()\n",
    "\n",
    "x = [0] + np.cos(np.linspace(2 * np.pi * r1, 2 * np.pi * r2, 10)).tolist()\n",
    "y = [0] + np.sin(np.linspace(2 * np.pi * r1, 2 * np.pi * r2, 10)).tolist()\n",
    "xy2 = np.column_stack([x, y])\n",
    "s2 = np.abs(xy2).max()\n",
    "\n",
    "x = [0] + np.cos(np.linspace(2 * np.pi * r2, 2 * np.pi, 10)).tolist()\n",
    "y = [0] + np.sin(np.linspace(2 * np.pi * r2, 2 * np.pi, 10)).tolist()\n",
    "xy3 = np.column_stack([x, y])\n",
    "s3 = np.abs(xy3).max()\n",
    "\n",
    "fig, ax = plt.subplots()\n",
    "ax.scatter(range(10), range(10), marker=xy1, s=s1 ** 2 * sizes, facecolor='blue')\n",
    "ax.scatter(range(10), range(10), marker=xy2, s=s2 ** 2 * sizes, facecolor='green')\n",
    "ax.scatter(range(10), range(10), marker=xy3, s=s3 ** 2 * sizes, facecolor='red')\n",
    "\n",
    "plt.show()\n"
   ]
  },
  {
   "cell_type": "code",
   "execution_count": null,
   "metadata": {},
   "outputs": [],
   "source": [
    "\n",
    "\n",
    "\n",
    "\n"
   ]
  }
 ],
 "metadata": {
  "kernelspec": {
   "display_name": "Python 3",
   "language": "python",
   "name": "python3"
  },
  "language_info": {
   "codemirror_mode": {
    "name": "ipython",
    "version": 3
   },
   "file_extension": ".py",
   "mimetype": "text/x-python",
   "name": "python",
   "nbconvert_exporter": "python",
   "pygments_lexer": "ipython3",
   "version": "3.6.7"
  }
 },
 "nbformat": 4,
 "nbformat_minor": 2
}
